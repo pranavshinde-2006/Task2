{
 "cells": [
  {
   "cell_type": "code",
   "execution_count": 1,
   "id": "8402efac-a4d9-4da3-ad81-e5232682bad1",
   "metadata": {},
   "outputs": [],
   "source": [
    "# importing\n",
    "\n",
    "import numpy as np\n",
    "import pandas as pd\n",
    "import matplotlib.pyplot as plt\n",
    "import seaborn as sns"
   ]
  },
  {
   "cell_type": "code",
   "execution_count": 2,
   "id": "35a368c4-e73a-4a63-8639-c61949822d04",
   "metadata": {},
   "outputs": [
    {
     "data": {
      "text/html": [
       "<div>\n",
       "<style scoped>\n",
       "    .dataframe tbody tr th:only-of-type {\n",
       "        vertical-align: middle;\n",
       "    }\n",
       "\n",
       "    .dataframe tbody tr th {\n",
       "        vertical-align: top;\n",
       "    }\n",
       "\n",
       "    .dataframe thead th {\n",
       "        text-align: right;\n",
       "    }\n",
       "</style>\n",
       "<table border=\"1\" class=\"dataframe\">\n",
       "  <thead>\n",
       "    <tr style=\"text-align: right;\">\n",
       "      <th></th>\n",
       "      <th>CustomerID</th>\n",
       "      <th>Product</th>\n",
       "      <th>Price</th>\n",
       "      <th>Quantity</th>\n",
       "      <th>City</th>\n",
       "      <th>PurchaseDate</th>\n",
       "    </tr>\n",
       "  </thead>\n",
       "  <tbody>\n",
       "    <tr>\n",
       "      <th>0</th>\n",
       "      <td>1052</td>\n",
       "      <td>Desktop</td>\n",
       "      <td>NaN</td>\n",
       "      <td>4.0</td>\n",
       "      <td>Bangalore</td>\n",
       "      <td>2021-06-30</td>\n",
       "    </tr>\n",
       "    <tr>\n",
       "      <th>1</th>\n",
       "      <td>1041</td>\n",
       "      <td>Desktop</td>\n",
       "      <td>NaN</td>\n",
       "      <td>3.0</td>\n",
       "      <td>Delhi</td>\n",
       "      <td>2023-01-21</td>\n",
       "    </tr>\n",
       "    <tr>\n",
       "      <th>2</th>\n",
       "      <td>1057</td>\n",
       "      <td>Smartphone</td>\n",
       "      <td>forty-five thousand</td>\n",
       "      <td>2.0</td>\n",
       "      <td>Bangalore</td>\n",
       "      <td>2023-04-06</td>\n",
       "    </tr>\n",
       "    <tr>\n",
       "      <th>3</th>\n",
       "      <td>1038</td>\n",
       "      <td>Tablet</td>\n",
       "      <td>45000.0</td>\n",
       "      <td>1.0</td>\n",
       "      <td>Chennai</td>\n",
       "      <td>2023-07-05</td>\n",
       "    </tr>\n",
       "    <tr>\n",
       "      <th>4</th>\n",
       "      <td>1013</td>\n",
       "      <td>Smartphone</td>\n",
       "      <td>45000.0</td>\n",
       "      <td>NaN</td>\n",
       "      <td>Mumbai</td>\n",
       "      <td>2022-04-11</td>\n",
       "    </tr>\n",
       "    <tr>\n",
       "      <th>...</th>\n",
       "      <td>...</td>\n",
       "      <td>...</td>\n",
       "      <td>...</td>\n",
       "      <td>...</td>\n",
       "      <td>...</td>\n",
       "      <td>...</td>\n",
       "    </tr>\n",
       "    <tr>\n",
       "      <th>120</th>\n",
       "      <td>1074</td>\n",
       "      <td>Laptop</td>\n",
       "      <td>45000.0</td>\n",
       "      <td>NaN</td>\n",
       "      <td>Bangalore</td>\n",
       "      <td>2021-08-14</td>\n",
       "    </tr>\n",
       "    <tr>\n",
       "      <th>121</th>\n",
       "      <td>1017</td>\n",
       "      <td>Desktop</td>\n",
       "      <td>45000.0</td>\n",
       "      <td>NaN</td>\n",
       "      <td>Pune</td>\n",
       "      <td>2022-08-09</td>\n",
       "    </tr>\n",
       "    <tr>\n",
       "      <th>122</th>\n",
       "      <td>1075</td>\n",
       "      <td>Desktop</td>\n",
       "      <td>30000.0</td>\n",
       "      <td>1.0</td>\n",
       "      <td>Pune</td>\n",
       "      <td>2021-09-28</td>\n",
       "    </tr>\n",
       "    <tr>\n",
       "      <th>123</th>\n",
       "      <td>1008</td>\n",
       "      <td>Laptop</td>\n",
       "      <td>60000.0</td>\n",
       "      <td>1.0</td>\n",
       "      <td>Chennai</td>\n",
       "      <td>2021-09-13</td>\n",
       "    </tr>\n",
       "    <tr>\n",
       "      <th>124</th>\n",
       "      <td>1073</td>\n",
       "      <td>Laptop</td>\n",
       "      <td>15000.0</td>\n",
       "      <td>NaN</td>\n",
       "      <td>Delhi</td>\n",
       "      <td>2021-01-01</td>\n",
       "    </tr>\n",
       "  </tbody>\n",
       "</table>\n",
       "<p>125 rows × 6 columns</p>\n",
       "</div>"
      ],
      "text/plain": [
       "     CustomerID     Product                Price Quantity       City  \\\n",
       "0          1052     Desktop                  NaN      4.0  Bangalore   \n",
       "1          1041     Desktop                  NaN      3.0      Delhi   \n",
       "2          1057  Smartphone  forty-five thousand      2.0  Bangalore   \n",
       "3          1038      Tablet              45000.0      1.0    Chennai   \n",
       "4          1013  Smartphone              45000.0      NaN     Mumbai   \n",
       "..          ...         ...                  ...      ...        ...   \n",
       "120        1074      Laptop              45000.0      NaN  Bangalore   \n",
       "121        1017     Desktop              45000.0      NaN       Pune   \n",
       "122        1075     Desktop              30000.0      1.0       Pune   \n",
       "123        1008      Laptop              60000.0      1.0    Chennai   \n",
       "124        1073      Laptop              15000.0      NaN      Delhi   \n",
       "\n",
       "    PurchaseDate  \n",
       "0     2021-06-30  \n",
       "1     2023-01-21  \n",
       "2     2023-04-06  \n",
       "3     2023-07-05  \n",
       "4     2022-04-11  \n",
       "..           ...  \n",
       "120   2021-08-14  \n",
       "121   2022-08-09  \n",
       "122   2021-09-28  \n",
       "123   2021-09-13  \n",
       "124   2021-01-01  \n",
       "\n",
       "[125 rows x 6 columns]"
      ]
     },
     "execution_count": 2,
     "metadata": {},
     "output_type": "execute_result"
    }
   ],
   "source": [
    "# import dataset\n",
    "\n",
    "ds=pd.read_csv(\"product_data.csv\")\n",
    "ds"
   ]
  },
  {
   "cell_type": "code",
   "execution_count": 3,
   "id": "dae80ebe-e01e-48be-a297-ea395889b80a",
   "metadata": {},
   "outputs": [
    {
     "name": "stdout",
     "output_type": "stream",
     "text": [
      "<class 'pandas.core.frame.DataFrame'>\n",
      "RangeIndex: 125 entries, 0 to 124\n",
      "Data columns (total 6 columns):\n",
      " #   Column        Non-Null Count  Dtype \n",
      "---  ------        --------------  ----- \n",
      " 0   CustomerID    125 non-null    int64 \n",
      " 1   Product       125 non-null    object\n",
      " 2   Price         103 non-null    object\n",
      " 3   Quantity      98 non-null     object\n",
      " 4   City          125 non-null    object\n",
      " 5   PurchaseDate  125 non-null    object\n",
      "dtypes: int64(1), object(5)\n",
      "memory usage: 6.0+ KB\n"
     ]
    }
   ],
   "source": [
    "ds.info()"
   ]
  },
  {
   "cell_type": "code",
   "execution_count": 5,
   "id": "ba0d5735-cc24-4eab-8b61-3793f057c41a",
   "metadata": {},
   "outputs": [
    {
     "data": {
      "text/html": [
       "<div>\n",
       "<style scoped>\n",
       "    .dataframe tbody tr th:only-of-type {\n",
       "        vertical-align: middle;\n",
       "    }\n",
       "\n",
       "    .dataframe tbody tr th {\n",
       "        vertical-align: top;\n",
       "    }\n",
       "\n",
       "    .dataframe thead th {\n",
       "        text-align: right;\n",
       "    }\n",
       "</style>\n",
       "<table border=\"1\" class=\"dataframe\">\n",
       "  <thead>\n",
       "    <tr style=\"text-align: right;\">\n",
       "      <th></th>\n",
       "      <th>CustomerID</th>\n",
       "    </tr>\n",
       "  </thead>\n",
       "  <tbody>\n",
       "    <tr>\n",
       "      <th>count</th>\n",
       "      <td>125.000000</td>\n",
       "    </tr>\n",
       "    <tr>\n",
       "      <th>mean</th>\n",
       "      <td>1045.936000</td>\n",
       "    </tr>\n",
       "    <tr>\n",
       "      <th>std</th>\n",
       "      <td>28.183942</td>\n",
       "    </tr>\n",
       "    <tr>\n",
       "      <th>min</th>\n",
       "      <td>1000.000000</td>\n",
       "    </tr>\n",
       "    <tr>\n",
       "      <th>25%</th>\n",
       "      <td>1019.000000</td>\n",
       "    </tr>\n",
       "    <tr>\n",
       "      <th>50%</th>\n",
       "      <td>1044.000000</td>\n",
       "    </tr>\n",
       "    <tr>\n",
       "      <th>75%</th>\n",
       "      <td>1071.000000</td>\n",
       "    </tr>\n",
       "    <tr>\n",
       "      <th>max</th>\n",
       "      <td>1098.000000</td>\n",
       "    </tr>\n",
       "  </tbody>\n",
       "</table>\n",
       "</div>"
      ],
      "text/plain": [
       "        CustomerID\n",
       "count   125.000000\n",
       "mean   1045.936000\n",
       "std      28.183942\n",
       "min    1000.000000\n",
       "25%    1019.000000\n",
       "50%    1044.000000\n",
       "75%    1071.000000\n",
       "max    1098.000000"
      ]
     },
     "execution_count": 5,
     "metadata": {},
     "output_type": "execute_result"
    }
   ],
   "source": [
    "# discribe\n",
    "\n",
    "ds.describe()"
   ]
  },
  {
   "cell_type": "code",
   "execution_count": 6,
   "id": "f1165f0e-c514-4799-9d15-ec6cc5410af3",
   "metadata": {},
   "outputs": [
    {
     "data": {
      "text/plain": [
       "5"
      ]
     },
     "execution_count": 6,
     "metadata": {},
     "output_type": "execute_result"
    }
   ],
   "source": [
    "# searching for duplicates\n",
    "\n",
    "ds.duplicated().sum()"
   ]
  },
  {
   "cell_type": "code",
   "execution_count": 7,
   "id": "daaac81c-eb43-4251-a222-b0976db9f922",
   "metadata": {},
   "outputs": [],
   "source": [
    "# remove duplicates\n",
    "\n",
    "ds.drop_duplicates(inplace=True)"
   ]
  },
  {
   "cell_type": "code",
   "execution_count": 8,
   "id": "4a01b3f8-9e25-4180-b8e3-4a21979f8e61",
   "metadata": {},
   "outputs": [
    {
     "data": {
      "text/plain": [
       "Index(['CustomerID', 'Product', 'Price', 'Quantity', 'City', 'PurchaseDate'], dtype='object')"
      ]
     },
     "execution_count": 8,
     "metadata": {},
     "output_type": "execute_result"
    }
   ],
   "source": [
    "# it returns with column header \n",
    "\n",
    "ds.columns"
   ]
  },
  {
   "cell_type": "code",
   "execution_count": 14,
   "id": "97fb4603-5ff2-45d2-be6f-8a16fd1db49a",
   "metadata": {},
   "outputs": [],
   "source": [
    "# handling Price\n",
    "\n",
    "ds[\"Price\"]=pd.to_numeric(ds[\"Price\"],errors='coerce')\n"
   ]
  },
  {
   "cell_type": "code",
   "execution_count": 11,
   "id": "80997ba7-4f14-4c23-817c-76730723e200",
   "metadata": {},
   "outputs": [
    {
     "name": "stdout",
     "output_type": "stream",
     "text": [
      "<class 'pandas.core.frame.DataFrame'>\n",
      "Index: 120 entries, 0 to 119\n",
      "Data columns (total 6 columns):\n",
      " #   Column        Non-Null Count  Dtype  \n",
      "---  ------        --------------  -----  \n",
      " 0   CustomerID    120 non-null    int64  \n",
      " 1   Product       0 non-null      float64\n",
      " 2   Price         98 non-null     object \n",
      " 3   Quantity      96 non-null     object \n",
      " 4   City          120 non-null    object \n",
      " 5   PurchaseDate  120 non-null    object \n",
      "dtypes: float64(1), int64(1), object(4)\n",
      "memory usage: 6.6+ KB\n"
     ]
    }
   ],
   "source": [
    "ds.info()"
   ]
  },
  {
   "cell_type": "code",
   "execution_count": 15,
   "id": "008511fe-c896-4d7b-9f07-465fde61e09d",
   "metadata": {},
   "outputs": [
    {
     "name": "stderr",
     "output_type": "stream",
     "text": [
      "C:\\Users\\Admin\\AppData\\Local\\Temp\\ipykernel_14828\\4284937391.py:4: FutureWarning: A value is trying to be set on a copy of a DataFrame or Series through chained assignment using an inplace method.\n",
      "The behavior will change in pandas 3.0. This inplace method will never work because the intermediate object on which we are setting values always behaves as a copy.\n",
      "\n",
      "For example, when doing 'df[col].method(value, inplace=True)', try using 'df.method({col: value}, inplace=True)' or df[col] = df[col].method(value) instead, to perform the operation inplace on the original object.\n",
      "\n",
      "\n",
      "  ds[\"Price\"].fillna(x, inplace=True)\n"
     ]
    }
   ],
   "source": [
    "# filling missing value in age column\n",
    "\n",
    "x=ds[\"Price\"].median()\n",
    "ds[\"Price\"].fillna(x, inplace=True)"
   ]
  },
  {
   "cell_type": "code",
   "execution_count": 16,
   "id": "7f238962-30b1-45ff-9e6b-7d4b2a8ce8fe",
   "metadata": {},
   "outputs": [
    {
     "data": {
      "text/plain": [
       "array([30000., 45000., 60000., 15000.])"
      ]
     },
     "execution_count": 16,
     "metadata": {},
     "output_type": "execute_result"
    }
   ],
   "source": [
    "ds[\"Price\"].unique()"
   ]
  },
  {
   "cell_type": "code",
   "execution_count": 17,
   "id": "bba9b54e-3afb-4d8e-8b2c-09d701a4a1cb",
   "metadata": {},
   "outputs": [
    {
     "data": {
      "text/plain": [
       "array([30000., 45000., 60000., 15000.])"
      ]
     },
     "execution_count": 17,
     "metadata": {},
     "output_type": "execute_result"
    }
   ],
   "source": [
    "ds[\"Price\"].unique()"
   ]
  },
  {
   "cell_type": "code",
   "execution_count": 18,
   "id": "58d256cb-5723-4269-bdbf-10ea12822ae9",
   "metadata": {},
   "outputs": [
    {
     "name": "stdout",
     "output_type": "stream",
     "text": [
      "<class 'pandas.core.frame.DataFrame'>\n",
      "Index: 120 entries, 0 to 119\n",
      "Data columns (total 6 columns):\n",
      " #   Column        Non-Null Count  Dtype  \n",
      "---  ------        --------------  -----  \n",
      " 0   CustomerID    120 non-null    int64  \n",
      " 1   Product       0 non-null      float64\n",
      " 2   Price         120 non-null    float64\n",
      " 3   Quantity      96 non-null     object \n",
      " 4   City          120 non-null    object \n",
      " 5   PurchaseDate  120 non-null    object \n",
      "dtypes: float64(2), int64(1), object(3)\n",
      "memory usage: 6.6+ KB\n"
     ]
    }
   ],
   "source": [
    "ds.info()"
   ]
  },
  {
   "cell_type": "code",
   "execution_count": 19,
   "id": "108ebc9f-c011-4dfa-88d0-455b35892631",
   "metadata": {},
   "outputs": [],
   "source": [
    "# handling Quantity\n",
    "\n",
    "ds[\"Quantity\"]=pd.to_numeric(ds[\"Quantity\"],errors='coerce')"
   ]
  },
  {
   "cell_type": "code",
   "execution_count": 20,
   "id": "40f1d37b-29e2-4418-9e1d-070da14e98f2",
   "metadata": {},
   "outputs": [
    {
     "name": "stdout",
     "output_type": "stream",
     "text": [
      "<class 'pandas.core.frame.DataFrame'>\n",
      "Index: 120 entries, 0 to 119\n",
      "Data columns (total 6 columns):\n",
      " #   Column        Non-Null Count  Dtype  \n",
      "---  ------        --------------  -----  \n",
      " 0   CustomerID    120 non-null    int64  \n",
      " 1   Product       0 non-null      float64\n",
      " 2   Price         120 non-null    float64\n",
      " 3   Quantity      95 non-null     float64\n",
      " 4   City          120 non-null    object \n",
      " 5   PurchaseDate  120 non-null    object \n",
      "dtypes: float64(3), int64(1), object(2)\n",
      "memory usage: 6.6+ KB\n"
     ]
    }
   ],
   "source": [
    "ds.info()"
   ]
  },
  {
   "cell_type": "code",
   "execution_count": 21,
   "id": "9a0c4034-e247-4b03-a158-031896633fe6",
   "metadata": {},
   "outputs": [
    {
     "name": "stderr",
     "output_type": "stream",
     "text": [
      "C:\\Users\\Admin\\AppData\\Local\\Temp\\ipykernel_14828\\3168236273.py:4: FutureWarning: A value is trying to be set on a copy of a DataFrame or Series through chained assignment using an inplace method.\n",
      "The behavior will change in pandas 3.0. This inplace method will never work because the intermediate object on which we are setting values always behaves as a copy.\n",
      "\n",
      "For example, when doing 'df[col].method(value, inplace=True)', try using 'df.method({col: value}, inplace=True)' or df[col] = df[col].method(value) instead, to perform the operation inplace on the original object.\n",
      "\n",
      "\n",
      "  ds[\"Quantity\"].fillna(x, inplace=True)\n"
     ]
    }
   ],
   "source": [
    "# filling missing value in age column\n",
    "\n",
    "x=ds[\"Quantity\"].median()\n",
    "ds[\"Quantity\"].fillna(x, inplace=True)"
   ]
  },
  {
   "cell_type": "code",
   "execution_count": 22,
   "id": "0efad67e-3d48-402c-83d7-cf7251faba5b",
   "metadata": {},
   "outputs": [
    {
     "name": "stdout",
     "output_type": "stream",
     "text": [
      "<class 'pandas.core.frame.DataFrame'>\n",
      "Index: 120 entries, 0 to 119\n",
      "Data columns (total 6 columns):\n",
      " #   Column        Non-Null Count  Dtype  \n",
      "---  ------        --------------  -----  \n",
      " 0   CustomerID    120 non-null    int64  \n",
      " 1   Product       0 non-null      float64\n",
      " 2   Price         120 non-null    float64\n",
      " 3   Quantity      120 non-null    float64\n",
      " 4   City          120 non-null    object \n",
      " 5   PurchaseDate  120 non-null    object \n",
      "dtypes: float64(3), int64(1), object(2)\n",
      "memory usage: 6.6+ KB\n"
     ]
    }
   ],
   "source": [
    "ds.info()"
   ]
  },
  {
   "cell_type": "code",
   "execution_count": 23,
   "id": "67d1c7c4-1f1a-403a-a22b-73b7c85b949f",
   "metadata": {},
   "outputs": [
    {
     "data": {
      "text/plain": [
       "array(['Bangalore', 'Delhi', 'Chennai', 'Mumbai', 'Pune'], dtype=object)"
      ]
     },
     "execution_count": 23,
     "metadata": {},
     "output_type": "execute_result"
    }
   ],
   "source": [
    "ds[\"City\"].unique()"
   ]
  },
  {
   "cell_type": "code",
   "execution_count": 24,
   "id": "61002181-6702-48a4-adab-8a24c69d87b2",
   "metadata": {},
   "outputs": [],
   "source": [
    "ds.to_csv(\"cleaneddata2.csv\")"
   ]
  },
  {
   "cell_type": "code",
   "execution_count": 25,
   "id": "765ca412-2f1f-41ce-abdc-599a169c1590",
   "metadata": {},
   "outputs": [
    {
     "name": "stdout",
     "output_type": "stream",
     "text": [
      "     CustomerID  Product    Price  Quantity       City PurchaseDate\n",
      "0          1052      NaN  30000.0       4.0  Bangalore   2021-06-30\n",
      "1          1041      NaN  30000.0       3.0      Delhi   2023-01-21\n",
      "2          1057      NaN  30000.0       2.0  Bangalore   2023-04-06\n",
      "3          1038      NaN  45000.0       1.0    Chennai   2023-07-05\n",
      "4          1013      NaN  45000.0       3.0     Mumbai   2022-04-11\n",
      "5          1094      NaN  60000.0       3.0     Mumbai   2022-03-12\n",
      "6          1004      NaN  30000.0       2.0    Chennai   2022-02-25\n",
      "7          1034      NaN  30000.0       2.0    Chennai   2022-12-22\n",
      "8          1086      NaN  30000.0       3.0      Delhi   2022-10-23\n",
      "9          1092      NaN  30000.0       3.0     Mumbai   2022-03-12\n",
      "10         1074      NaN  45000.0       3.0  Bangalore   2021-08-14\n",
      "11         1017      NaN  45000.0       3.0       Pune   2022-08-09\n",
      "12         1075      NaN  30000.0       1.0       Pune   2021-09-28\n",
      "13         1008      NaN  60000.0       1.0    Chennai   2021-09-13\n",
      "14         1073      NaN  15000.0       3.0      Delhi   2021-01-01\n",
      "15         1057      NaN  15000.0       3.0       Pune   2022-11-22\n",
      "16         1016      NaN  60000.0       4.0     Mumbai   2023-09-03\n",
      "17         1006      NaN  30000.0       3.0    Chennai   2022-07-10\n",
      "18         1045      NaN  45000.0       1.0  Bangalore   2023-01-21\n",
      "19         1012      NaN  15000.0       3.0    Chennai   2023-07-20\n",
      "20         1039      NaN  30000.0       3.0  Bangalore   2021-02-15\n",
      "21         1041      NaN  30000.0       3.0    Chennai   2021-01-01\n",
      "22         1008      NaN  60000.0       4.0    Chennai   2021-04-16\n",
      "23         1049      NaN  30000.0       2.0    Chennai   2022-02-25\n",
      "24         1026      NaN  15000.0       4.0  Bangalore   2023-03-22\n",
      "25         1065      NaN  30000.0       4.0  Bangalore   2021-01-31\n",
      "26         1004      NaN  15000.0       3.0    Chennai   2022-04-11\n",
      "27         1028      NaN  60000.0       4.0       Pune   2021-05-16\n",
      "28         1036      NaN  60000.0       1.0      Delhi   2022-05-11\n",
      "29         1037      NaN  30000.0       3.0      Delhi   2023-03-22\n",
      "30         1082      NaN  30000.0       1.0      Delhi   2022-04-11\n",
      "31         1007      NaN  30000.0       2.0  Bangalore   2023-01-06\n",
      "32         1064      NaN  30000.0       3.0  Bangalore   2021-04-01\n",
      "33         1085      NaN  30000.0       2.0       Pune   2021-04-16\n",
      "34         1016      NaN  45000.0       3.0      Delhi   2023-08-19\n",
      "35         1070      NaN  45000.0       3.0      Delhi   2023-04-21\n",
      "36         1088      NaN  45000.0       4.0    Chennai   2023-09-18\n",
      "37         1044      NaN  45000.0       3.0  Bangalore   2023-05-21\n",
      "38         1003      NaN  15000.0       2.0      Delhi   2023-12-02\n",
      "39         1035      NaN  45000.0       4.0       Pune   2023-03-07\n",
      "40         1069      NaN  60000.0       3.0       Pune   2023-09-18\n",
      "41         1030      NaN  60000.0       4.0      Delhi   2023-01-21\n",
      "42         1018      NaN  15000.0       1.0  Bangalore   2021-04-16\n",
      "43         1060      NaN  45000.0       4.0       Pune   2022-05-11\n",
      "44         1053      NaN  45000.0       1.0    Chennai   2022-05-26\n",
      "45         1038      NaN  45000.0       4.0       Pune   2022-04-11\n",
      "46         1090      NaN  30000.0       1.0     Mumbai   2022-11-07\n",
      "47         1073      NaN  30000.0       2.0     Mumbai   2021-08-14\n",
      "48         1089      NaN  30000.0       3.0  Bangalore   2023-10-03\n",
      "49         1018      NaN  30000.0       3.0      Delhi   2022-06-25\n",
      "50         1038      NaN  45000.0       4.0  Bangalore   2023-03-07\n",
      "51         1066      NaN  45000.0       3.0  Bangalore   2021-07-15\n",
      "52         1044      NaN  30000.0       3.0  Bangalore   2023-03-22\n",
      "53         1012      NaN  30000.0       3.0  Bangalore   2022-12-07\n",
      "54         1091      NaN  30000.0       1.0    Chennai   2021-04-01\n",
      "55         1057      NaN  60000.0       2.0    Chennai   2021-04-01\n",
      "56         1019      NaN  30000.0       2.0       Pune   2022-04-26\n",
      "57         1091      NaN  30000.0       3.0     Mumbai   2021-11-27\n",
      "58         1071      NaN  30000.0       2.0  Bangalore   2021-09-28\n",
      "59         1060      NaN  15000.0       4.0       Pune   2021-09-28\n",
      "60         1038      NaN  30000.0       2.0     Mumbai   2022-06-10\n",
      "61         1000      NaN  15000.0       3.0      Delhi   2022-02-25\n",
      "62         1002      NaN  60000.0       2.0    Chennai   2023-06-05\n",
      "63         1076      NaN  30000.0       4.0     Mumbai   2021-01-16\n",
      "64         1091      NaN  30000.0       1.0      Delhi   2021-01-01\n",
      "65         1061      NaN  15000.0       3.0     Mumbai   2022-11-22\n",
      "66         1062      NaN  30000.0       1.0    Chennai   2023-10-18\n",
      "67         1024      NaN  30000.0       1.0    Chennai   2021-10-13\n",
      "68         1055      NaN  45000.0       1.0       Pune   2021-05-31\n",
      "69         1032      NaN  15000.0       3.0  Bangalore   2021-01-16\n",
      "70         1037      NaN  30000.0       3.0     Mumbai   2023-09-18\n",
      "71         1005      NaN  15000.0       1.0     Mumbai   2021-06-15\n",
      "72         1057      NaN  15000.0       3.0      Delhi   2021-10-13\n",
      "73         1043      NaN  45000.0       4.0    Chennai   2021-03-02\n",
      "74         1044      NaN  30000.0       4.0     Mumbai   2022-06-25\n",
      "75         1031      NaN  15000.0       2.0    Chennai   2022-07-10\n",
      "76         1044      NaN  30000.0       3.0     Mumbai   2021-05-01\n",
      "77         1060      NaN  60000.0       3.0       Pune   2023-02-20\n",
      "78         1046      NaN  15000.0       1.0  Bangalore   2022-10-08\n",
      "79         1020      NaN  15000.0       2.0     Mumbai   2021-12-12\n",
      "80         1079      NaN  45000.0       4.0    Chennai   2022-03-12\n",
      "81         1084      NaN  30000.0       3.0       Pune   2023-05-21\n",
      "82         1074      NaN  60000.0       3.0     Mumbai   2021-07-15\n",
      "83         1035      NaN  30000.0       1.0      Delhi   2021-05-01\n",
      "84         1098      NaN  60000.0       4.0  Bangalore   2022-08-09\n",
      "85         1018      NaN  30000.0       3.0     Mumbai   2023-09-03\n",
      "86         1019      NaN  30000.0       3.0       Pune   2021-12-27\n",
      "87         1056      NaN  30000.0       1.0      Delhi   2023-12-17\n",
      "88         1017      NaN  45000.0       3.0       Pune   2021-11-12\n",
      "89         1046      NaN  45000.0       4.0       Pune   2021-02-15\n",
      "90         1048      NaN  45000.0       3.0      Delhi   2022-01-11\n",
      "91         1013      NaN  45000.0       3.0       Pune   2023-05-06\n",
      "92         1014      NaN  60000.0       3.0      Delhi   2022-02-25\n",
      "93         1030      NaN  30000.0       3.0     Mumbai   2022-06-25\n",
      "94         1000      NaN  30000.0       3.0      Delhi   2023-11-02\n",
      "95         1053      NaN  30000.0       3.0      Delhi   2021-09-13\n",
      "96         1002      NaN  45000.0       2.0  Bangalore   2022-09-08\n",
      "97         1015      NaN  45000.0       4.0      Delhi   2022-08-24\n",
      "98         1086      NaN  15000.0       1.0      Delhi   2022-07-10\n",
      "99         1056      NaN  30000.0       3.0     Mumbai   2022-05-11\n",
      "100        1074      NaN  60000.0       2.0  Bangalore   2021-08-29\n",
      "101        1011      NaN  30000.0       1.0    Chennai   2022-06-25\n",
      "102        1073      NaN  15000.0       2.0     Mumbai   2021-12-27\n",
      "103        1095      NaN  15000.0       3.0     Mumbai   2022-01-26\n",
      "104        1015      NaN  30000.0       3.0    Chennai   2023-04-21\n",
      "105        1071      NaN  60000.0       1.0      Delhi   2022-03-27\n",
      "106        1075      NaN  15000.0       1.0       Pune   2021-03-17\n",
      "107        1023      NaN  15000.0       1.0  Bangalore   2022-08-09\n",
      "108        1027      NaN  30000.0       1.0       Pune   2021-06-15\n",
      "109        1007      NaN  60000.0       1.0    Chennai   2023-02-20\n",
      "110        1091      NaN  15000.0       2.0     Mumbai   2023-11-17\n",
      "111        1035      NaN  60000.0       3.0     Mumbai   2021-05-16\n",
      "112        1089      NaN  30000.0       3.0  Bangalore   2022-10-23\n",
      "113        1007      NaN  45000.0       3.0     Mumbai   2021-08-29\n",
      "114        1057      NaN  15000.0       3.0     Mumbai   2022-01-11\n",
      "115        1059      NaN  30000.0       3.0  Bangalore   2023-07-05\n",
      "116        1049      NaN  30000.0       2.0  Bangalore   2022-11-07\n",
      "117        1027      NaN  60000.0       4.0    Chennai   2023-08-04\n",
      "118        1091      NaN  30000.0       3.0     Mumbai   2021-01-16\n",
      "119        1040      NaN  15000.0       1.0     Mumbai   2023-03-07\n"
     ]
    }
   ],
   "source": [
    "print(ds.to_string())"
   ]
  },
  {
   "cell_type": "code",
   "execution_count": null,
   "id": "d136ea51-2f27-44d2-9b51-5448218c7552",
   "metadata": {},
   "outputs": [],
   "source": []
  }
 ],
 "metadata": {
  "kernelspec": {
   "display_name": "Python 3 (ipykernel)",
   "language": "python",
   "name": "python3"
  },
  "language_info": {
   "codemirror_mode": {
    "name": "ipython",
    "version": 3
   },
   "file_extension": ".py",
   "mimetype": "text/x-python",
   "name": "python",
   "nbconvert_exporter": "python",
   "pygments_lexer": "ipython3",
   "version": "3.12.7"
  }
 },
 "nbformat": 4,
 "nbformat_minor": 5
}
